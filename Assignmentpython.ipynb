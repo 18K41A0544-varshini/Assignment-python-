{
  "nbformat": 4,
  "nbformat_minor": 0,
  "metadata": {
    "colab": {
      "name": "Untitled0.ipynb",
      "provenance": [],
      "collapsed_sections": [],
      "authorship_tag": "ABX9TyNf+Uu1n9uu3I7O7O6Z7xwf",
      "include_colab_link": true
    },
    "kernelspec": {
      "name": "python3",
      "display_name": "Python 3"
    }
  },
  "cells": [
    {
      "cell_type": "markdown",
      "metadata": {
        "id": "view-in-github",
        "colab_type": "text"
      },
      "source": [
        "<a href=\"https://colab.research.google.com/github/18K41A0544-varshini/Assignment-python-/blob/master/Assignmentpython.ipynb\" target=\"_parent\"><img src=\"https://colab.research.google.com/assets/colab-badge.svg\" alt=\"Open In Colab\"/></a>"
      ]
    },
    {
      "cell_type": "code",
      "metadata": {
        "id": "qV3mr6Mgzrxl",
        "colab_type": "code",
        "colab": {
          "base_uri": "https://localhost:8080/",
          "height": 52
        },
        "outputId": "11a1755e-89b9-40c7-ca64-7122b98817be"
      },
      "source": [
        "year=int(input(\"Enter year\"))\n",
        "if year%12==0:\n",
        "  print(\"monkey\")\n",
        "elif year%12==1:\n",
        "  print(\"rooster\")\n",
        "elif year%12==2:\n",
        "  print(\"dog\")\n",
        "elif year%12==3:\n",
        "  print(\"pig\")\n",
        "elif year%12==4:\n",
        "  print(\"rat\")\n",
        "elif year%12==5:\n",
        "  print(\"ox\")\n",
        "elif year%12==6:\n",
        "  print(\"tiger\")\n",
        "elif year%12==7:\n",
        "  print(\"rabbiyt\")\n",
        "elif year%12==8:\n",
        "  print(\"dragon\")\n",
        "elif year%12==9:\n",
        "  print(\"snake\")\n",
        "elif year%12==10:\n",
        "  print(\"horse\")\n",
        "else:\n",
        "  print(\"sheep\")"
      ],
      "execution_count": 18,
      "outputs": [
        {
          "output_type": "stream",
          "text": [
            "Enter year2018\n",
            "dog\n"
          ],
          "name": "stdout"
        }
      ]
    },
    {
      "cell_type": "code",
      "metadata": {
        "id": "ctNvTRVP3kDe",
        "colab_type": "code",
        "colab": {
          "base_uri": "https://localhost:8080/",
          "height": 87
        },
        "outputId": "5cc2eae5-7d19-4ec9-bc8b-45a60c841454"
      },
      "source": [
        "distance=int(input(\"Distance to be travel:\"))\n",
        "weight=int(input(\"Weight of the goods:\"))\n",
        "if distance>=500:\n",
        "  if weight>=100:\n",
        "    c=distance*5\n",
        "    print(\"amount:\")\n",
        "    print(c)\n",
        "  elif weight>=10 & weight<100:\n",
        "    c=distance*6\n",
        "    print(\"amount:\")\n",
        "    print(c)\n",
        "  else:\n",
        "    c=distance*7\n",
        "    print(\"amount:\")\n",
        "    print(c)\n",
        "else:\n",
        "  if weight>=100:\n",
        "    c=distance*8\n",
        "    print(\"amount:\")\n",
        "    print(c)\n",
        "  else:\n",
        "    c=distance*5;\n",
        "    print(\"amount:\")\n",
        "    print(c)\n",
        " "
      ],
      "execution_count": 26,
      "outputs": [
        {
          "output_type": "stream",
          "text": [
            "Distance to be travel:5000\n",
            "Weight of the goods:500\n",
            "amount:\n",
            "25000\n"
          ],
          "name": "stdout"
        }
      ]
    },
    {
      "cell_type": "code",
      "metadata": {
        "id": "0BOz0Wmq7uHo",
        "colab_type": "code",
        "colab": {
          "base_uri": "https://localhost:8080/",
          "height": 122
        },
        "outputId": "6a7e6c98-5779-48ce-9779-2c071800f007"
      },
      "source": [
        "print(\"Welcome!!\")\n",
        "print(\"Choose seat type: Stalls, Circle, UpperClass, Box!! -- You can pay through card or cash\")\n",
        "seattype=input(\"enter type of seat\")\n",
        "payment=input(\"enter payment mode\")\n",
        "if seattype==\"Stalls\":\n",
        "  if payment==\"cash\":\n",
        "    amount=625-(625/10)\n",
        "    print(\"ticket cost is\")\n",
        "    print(amount)\n",
        "  else:\n",
        "    amount=625-(625/5)\n",
        "    print(\"ticket cost is:\")\n",
        "    print(amount)\n",
        "elif seattype==\"Circle\":\n",
        "  if payment==\"cash\":\n",
        "    amount=750-(750/10)\n",
        "    print(\"ticket cost is\")\n",
        "    print(amount)\n",
        "  else:\n",
        "    amount=750-(750/5)\n",
        "    print(\"ticket cost is:\")\n",
        "    print(amount)\n",
        "elif seattype==\"UpperClass\":\n",
        "  if payment==\"cash\":\n",
        "    amount=850-(850/10)\n",
        "    print(\"ticket cost is\")\n",
        "    print(amount)\n",
        "  else:\n",
        "    amount=850-(850/5)\n",
        "    print(\"ticket cost is:\")\n",
        "    print(amount)\n",
        "else:\n",
        "  if payment==\"cash\":\n",
        "    amount=1000-(1000/10)\n",
        "    print(\"ticket cost is\")\n",
        "    print(amount)\n",
        "  else:\n",
        "    amount=1000-(1000/5)\n",
        "    print(\"ticket cost is:\")\n",
        "    print(amount)\n",
        "\n",
        "   "
      ],
      "execution_count": 33,
      "outputs": [
        {
          "output_type": "stream",
          "text": [
            "Welcome!!\n",
            "Choose seat type: Stalls, Circle, UpperClass, Box!! -- You can pay through card or cash\n",
            "enter type of seatCircle\n",
            "enter payment modecash\n",
            "ticket cost is\n",
            "675.0\n"
          ],
          "name": "stdout"
        }
      ]
    },
    {
      "cell_type": "code",
      "metadata": {
        "id": "7eJS9JSU_0eL",
        "colab_type": "code",
        "colab": {
          "base_uri": "https://localhost:8080/",
          "height": 105
        },
        "outputId": "2959b0e4-bc19-411c-a7f1-f66bbe7c236f"
      },
      "source": [
        "water=int(input(\"enter weight of water in kilograms\"))\n",
        "initial=float(input(\"enter initial temperature\"))\n",
        "final=float(input(\"enter final temperature\"))\n",
        "q= water*(final-initial)*4184\n",
        "print(\"energy in joules is:\")\n",
        "print(q)"
      ],
      "execution_count": 36,
      "outputs": [
        {
          "output_type": "stream",
          "text": [
            "enter weight of water in kilograms10\n",
            "enter initial temperature15.6\n",
            "enter final temperature89.6\n",
            "energy in joules is:\n",
            "3096160.0\n"
          ],
          "name": "stdout"
        }
      ]
    },
    {
      "cell_type": "code",
      "metadata": {
        "id": "7vklvCl5BXlp",
        "colab_type": "code",
        "colab": {
          "base_uri": "https://localhost:8080/",
          "height": 52
        },
        "outputId": "2dc9989f-6d10-4e66-a144-4696c731f603"
      },
      "source": [
        "month=input(\"enter month\")\n",
        "list1=[[\"December\",\"January\",\"february\"],[\"March\",\"April\",\"May\"],[\"June\",\"July\",\"August\"],[\"September\",\"October\",\"November\"]]\n",
        "if month in list1[0]:\n",
        "  print(\"Winter\")\n",
        "elif month in list1[1]:\n",
        "  print(\"Spring\")\n",
        "elif month in list1[2]:\n",
        "  print(\"Summer\")\n",
        "elif month in list1[3]:\n",
        "  print(\"Autumn\")\n",
        "else:\n",
        "  print(\"enter valid month\")"
      ],
      "execution_count": 72,
      "outputs": [
        {
          "output_type": "stream",
          "text": [
            "enter monthAugust\n",
            "Summer\n"
          ],
          "name": "stdout"
        }
      ]
    },
    {
      "cell_type": "code",
      "metadata": {
        "id": "MNcU9XAxDGQJ",
        "colab_type": "code",
        "colab": {
          "base_uri": "https://localhost:8080/",
          "height": 87
        },
        "outputId": "8238aff2-0d2d-4f60-bb6b-f5b53165a45d"
      },
      "source": [
        "\"height=float(input(\"enter ur height in inches\"))\n",
        "weight=float(input(\"enter ur weight in pounds\"))\n",
        "h=height*0.0254\n",
        "w=weight*0.454\n",
        "bmi=w/(h*h)\n",
        "print(bmi)\n",
        "if bmi<18.5:\n",
        "  print(\"underweight\")\n",
        "elif bmi>=18.5 and bmi<25.0:\n",
        "  print(\"Normal\")\n",
        "elif bmi>=25.0 and bmi<30.0:\n",
        "  print(\"OverWeight\")\n",
        "else:\n",
        "  print(\"obese\")"
      ],
      "execution_count": 56,
      "outputs": [
        {
          "output_type": "stream",
          "text": [
            "enter ur height in inches62\n",
            "enter ur weight in pounds90\n",
            "16.47583940329171\n",
            "underweight\n"
          ],
          "name": "stdout"
        }
      ]
    },
    {
      "cell_type": "code",
      "metadata": {
        "id": "L6inrasPei72",
        "colab_type": "code",
        "colab": {
          "base_uri": "https://localhost:8080/",
          "height": 52
        },
        "outputId": "f227e9bc-84b0-4636-ece1-d2da89f651e2"
      },
      "source": [
        "num=int(input(\"enter a number between 100 and 1000:\"))\n",
        "sum=0\n",
        "if num>100 & num<1000:\n",
        "  while num>0:\n",
        "    rem=num%10\n",
        "    sum=sum+rem\n",
        "    num=num//10\n",
        "  print(sum)\n",
        "else:\n",
        "  print(\"enter valid num\")"
      ],
      "execution_count": 4,
      "outputs": [
        {
          "output_type": "stream",
          "text": [
            "enter a number between 100 and 1000:549\n",
            "18\n"
          ],
          "name": "stdout"
        }
      ]
    },
    {
      "cell_type": "code",
      "metadata": {
        "id": "2sdEnbnhgavE",
        "colab_type": "code",
        "colab": {
          "base_uri": "https://localhost:8080/",
          "height": 54
        },
        "outputId": "bf58b96c-2389-4cf1-b3af-fbabc00919a7"
      },
      "source": [
        "for num in range(1,1000):\n",
        "  temp=num\n",
        "  rev=0\n",
        "  while num>0:\n",
        "    rem=num%10\n",
        "    rev=(rev*10)+rem\n",
        "    num=num//10\n",
        "  if rev==temp:\n",
        "    print(temp,end=' ')\n"
      ],
      "execution_count": 5,
      "outputs": [
        {
          "output_type": "stream",
          "text": [
            "1 2 3 4 5 6 7 8 9 11 22 33 44 55 66 77 88 99 101 111 121 131 141 151 161 171 181 191 202 212 222 232 242 252 262 272 282 292 303 313 323 333 343 353 363 373 383 393 404 414 424 434 444 454 464 474 484 494 505 515 525 535 545 555 565 575 585 595 606 616 626 636 646 656 666 676 686 696 707 717 727 737 747 757 767 777 787 797 808 818 828 838 848 858 868 878 888 898 909 919 929 939 949 959 969 979 989 999 "
          ],
          "name": "stdout"
        }
      ]
    },
    {
      "cell_type": "code",
      "metadata": {
        "id": "JBsI1kPOkg9U",
        "colab_type": "code",
        "colab": {
          "base_uri": "https://localhost:8080/",
          "height": 34
        },
        "outputId": "5901ee05-64a7-4d9a-f7cd-6de9efa9b076"
      },
      "source": [
        "for num in range(1,1000):\n",
        "  temp=num\n",
        "  sum=0\n",
        "  while num>0:\n",
        "    rem=num%10\n",
        "    num=num//10\n",
        "    sum=sum+pow(rem,3)\n",
        "  if sum==temp:\n",
        "    print(temp,end=' ')\n"
      ],
      "execution_count": 3,
      "outputs": [
        {
          "output_type": "stream",
          "text": [
            "1 153 370 371 407 "
          ],
          "name": "stdout"
        }
      ]
    },
    {
      "cell_type": "code",
      "metadata": {
        "id": "IoVCbboDmhuK",
        "colab_type": "code",
        "colab": {
          "base_uri": "https://localhost:8080/",
          "height": 1000
        },
        "outputId": "b4db079f-d6ec-49a0-c09a-5247ece43f7e"
      },
      "source": [
        "for i in range(1,100):\n",
        "  if i%3==0 and i%5!=0:\n",
        "    print(\"Fizz\")\n",
        "  elif i%5==0 and i%3!=0:\n",
        "    print(\"Buzz\")\n",
        "  elif i%5==0 and i%3==0:\n",
        "    print(\"FizzBuzz\")\n",
        "  else:\n",
        "    print(i)"
      ],
      "execution_count": 9,
      "outputs": [
        {
          "output_type": "stream",
          "text": [
            "1\n",
            "2\n",
            "Fizz\n",
            "4\n",
            "Buzz\n",
            "Fizz\n",
            "7\n",
            "8\n",
            "Fizz\n",
            "Buzz\n",
            "11\n",
            "Fizz\n",
            "13\n",
            "14\n",
            "FizzBuzz\n",
            "16\n",
            "17\n",
            "Fizz\n",
            "19\n",
            "Buzz\n",
            "Fizz\n",
            "22\n",
            "23\n",
            "Fizz\n",
            "Buzz\n",
            "26\n",
            "Fizz\n",
            "28\n",
            "29\n",
            "FizzBuzz\n",
            "31\n",
            "32\n",
            "Fizz\n",
            "34\n",
            "Buzz\n",
            "Fizz\n",
            "37\n",
            "38\n",
            "Fizz\n",
            "Buzz\n",
            "41\n",
            "Fizz\n",
            "43\n",
            "44\n",
            "FizzBuzz\n",
            "46\n",
            "47\n",
            "Fizz\n",
            "49\n",
            "Buzz\n",
            "Fizz\n",
            "52\n",
            "53\n",
            "Fizz\n",
            "Buzz\n",
            "56\n",
            "Fizz\n",
            "58\n",
            "59\n",
            "FizzBuzz\n",
            "61\n",
            "62\n",
            "Fizz\n",
            "64\n",
            "Buzz\n",
            "Fizz\n",
            "67\n",
            "68\n",
            "Fizz\n",
            "Buzz\n",
            "71\n",
            "Fizz\n",
            "73\n",
            "74\n",
            "FizzBuzz\n",
            "76\n",
            "77\n",
            "Fizz\n",
            "79\n",
            "Buzz\n",
            "Fizz\n",
            "82\n",
            "83\n",
            "Fizz\n",
            "Buzz\n",
            "86\n",
            "Fizz\n",
            "88\n",
            "89\n",
            "FizzBuzz\n",
            "91\n",
            "92\n",
            "Fizz\n",
            "94\n",
            "Buzz\n",
            "Fizz\n",
            "97\n",
            "98\n",
            "Fizz\n"
          ],
          "name": "stdout"
        }
      ]
    },
    {
      "cell_type": "code",
      "metadata": {
        "id": "if9xZZ9YnzKJ",
        "colab_type": "code",
        "colab": {
          "base_uri": "https://localhost:8080/",
          "height": 87
        },
        "outputId": "eb031058-3e2a-46a8-f3fa-434c5ed0e9f0"
      },
      "source": [
        "height=int(input(\"enter total height of the wall:\"))\n",
        "up=int(input(\"enter meters climbed at every step:\"))\n",
        "down=int(input(\"enter meters dropped down at every step:\"))\n",
        "if down>=up:\n",
        "  print(\"-1\")\n",
        "elif height<=up:\n",
        "  print(\"1\")\n",
        "else:\n",
        "  result=(height-up)//(up-down)\n",
        "  result=result+2\n",
        "print(result)"
      ],
      "execution_count": 11,
      "outputs": [
        {
          "output_type": "stream",
          "text": [
            "enter total height of the wall:500\n",
            "enter meters climbed at every step:20\n",
            "enter meters dropped down at every step:15\n",
            "98\n"
          ],
          "name": "stdout"
        }
      ]
    }
  ]
}